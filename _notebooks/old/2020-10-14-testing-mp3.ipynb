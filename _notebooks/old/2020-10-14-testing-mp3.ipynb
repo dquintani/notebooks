{
 "cells": [
  {
   "cell_type": "markdown",
   "metadata": {},
   "source": [
    "# Testing mp3\n",
    "> test\n",
    "\n",
    "- comments: true\n",
    "- author: Caglar Cakan\n",
    "- categories: [test]\n",
    "- permalink: /test/\n",
    "- image: images/parsing-q.png\n",
    "- license: Creative Commons"
   ]
  },
  {
   "cell_type": "markdown",
   "metadata": {},
   "source": [
    "<p>https://www.learningcontainer.com/wp-content/uploads/2020/02/Kalimba.mp3</p>"
   ]
  },
  {
   "cell_type": "markdown",
   "metadata": {},
   "source": [
    "[test](https://www.learningcontainer.com/wp-content/uploads/2020/02/Kalimba.mp3?autoplay=1&loop=1&controls=0)"
   ]
  },
  {
   "cell_type": "markdown",
   "metadata": {},
   "source": [
    "[https://www.learningcontainer.com/wp-content/uploads/2020/02/Kalimba.mp3?autoplay=1&loop=1&controls=0](https://www.learningcontainer.com/wp-content/uploads/2020/02/Kalimba.mp3?autoplay=1&loop=1&controls=0)"
   ]
  },
  {
   "cell_type": "code",
   "execution_count": 3,
   "metadata": {},
   "outputs": [
    {
     "data": {
      "text/markdown": [
       "<p>https://www.learningcontainer.com/wp-content/uploads/2020/02/Kalimba.mp3</p>"
      ],
      "text/plain": [
       "<IPython.core.display.Markdown object>"
      ]
     },
     "metadata": {},
     "output_type": "display_data"
    }
   ],
   "source": [
    "from IPython.display import display, Markdown, Latex\n",
    "display(Markdown('<p>https://www.learningcontainer.com/wp-content/uploads/2020/02/Kalimba.mp3</p>'))"
   ]
  },
  {
   "cell_type": "code",
   "execution_count": null,
   "metadata": {},
   "outputs": [],
   "source": []
  }
 ],
 "metadata": {
  "kernelspec": {
   "display_name": "Python 3",
   "language": "python",
   "name": "python3"
  },
  "language_info": {
   "codemirror_mode": {
    "name": "ipython",
    "version": 3
   },
   "file_extension": ".py",
   "mimetype": "text/x-python",
   "name": "python",
   "nbconvert_exporter": "python",
   "pygments_lexer": "ipython3",
   "version": "3.7.3"
  }
 },
 "nbformat": 4,
 "nbformat_minor": 4
}
